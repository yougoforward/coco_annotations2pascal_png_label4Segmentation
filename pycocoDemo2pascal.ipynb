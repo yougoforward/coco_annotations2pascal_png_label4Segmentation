{
 "cells": [
  {
   "cell_type": "code",
   "execution_count": null,
   "metadata": {},
   "outputs": [],
   "source": [
    "%matplotlib inline\n",
    "from pycocotools.coco import COCO\n",
    "from pycocotools.coco import *\n",
    "import numpy as np\n",
    "import skimage.io as io\n",
    "import matplotlib.pyplot as plt\n",
    "from matplotlib.pyplot import imsave\n",
    "from matplotlib.pyplot import cm\n",
    "import pylab\n",
    "pylab.rcParams['figure.figsize'] = (8.0, 10.0)"
   ]
  },
  {
   "cell_type": "code",
   "execution_count": null,
   "metadata": {},
   "outputs": [],
   "source": [
    "dataDir='/media/D/DataSets/coco'\n",
    "dataType='val2017'\n",
    "annFile='{}/annotations/instances_{}.json'.format(dataDir,dataType)"
   ]
  },
  {
   "cell_type": "code",
   "execution_count": null,
   "metadata": {},
   "outputs": [],
   "source": [
    "# initialize COCO api for instance annotations\n",
    "coco=COCO(annFile)\n",
    "print(coco)"
   ]
  },
  {
   "cell_type": "code",
   "execution_count": null,
   "metadata": {
    "scrolled": true
   },
   "outputs": [],
   "source": [
    "# display COCO categories and supercategories\n",
    "cats = coco.loadCats(coco.getCatIds())\n",
    "allcatIds=coco.getCatIds()\n",
    "print(allcatIds)\n",
    "print(len(cats))\n",
    "# print(cats)\n",
    "nms=[cat['name'] for cat in cats]\n",
    "print('COCO categories: \\n{}\\n'.format(' '.join(nms)))\n",
    "\n",
    "nms = set([cat['supercategory'] for cat in cats])\n",
    "print('COCO supercategories: \\n{}'.format(' '.join(nms)))"
   ]
  },
  {
   "cell_type": "code",
   "execution_count": null,
   "metadata": {},
   "outputs": [],
   "source": [
    "#get all catIds\n",
    "cats = coco.loadCats(coco.getCatIds())\n",
    "nms=[cat['name'] for cat in cats]\n",
    "print(len(nms))\n",
    "catIds = coco.getCatIds(catNms=nms);\n",
    "print(catIds)\n",
    "for i in catIds:\n",
    "    imgIds.extend(coco.getImgIds(catIds=i ))\n",
    "print(len(imgIds))\n",
    "unique_imgIds=set(imgIds)\n",
    "print(len(unique_imgIds))\n",
    "\n",
    "imgIds=coco.getImgIds()\n",
    "print(len(imgIds))\n",
    "# f=open('coco_train2017_img.txt','w')\n",
    "# f.write('\\n'.join(['{0:0>12}'.format(Ids) for Ids in imgIds]))\n",
    "# f.close()"
   ]
  },
  {
   "cell_type": "code",
   "execution_count": null,
   "metadata": {},
   "outputs": [],
   "source": [
    "VOC_classes=['aeroplane','bicycle','bird','boat','bottle','bus','car','cat','chair','cow',\n",
    "             'diningtable','dog','horse','motorbike','person','pottedplant','sheep','sofa','train','tvmonitor'];\n",
    "common_class=[cls for cls in VOC_classes if cls not in nms]\n",
    "print(len(common_class))\n",
    "print(common_class)"
   ]
  },
  {
   "cell_type": "code",
   "execution_count": null,
   "metadata": {
    "scrolled": true
   },
   "outputs": [],
   "source": [
    "#PASCAL VOC classes\n",
    "# VOC_classes=['aeroplane','bicycle','bird','boat','bottle','bus','car','cat','chair','cow',\n",
    "#              'diningtable','dog','horse','motorbike','person','pottedplant','sheep','sofa','train','tvmonitor'];\n",
    "VOC_classes=['airplane','bicycle','bird','boat','bottle','bus','car','cat','chair','cow',\n",
    "             'dining table','dog','horse','motorcycle','person','potted plant','sheep','couch','train','tv'];\n",
    "common_class=[cls for cls in VOC_classes if cls in nms]\n",
    "print(len(common_class))\n",
    "print(common_class)\n",
    "# catIds = coco.getCatIds(catNms=common_class);\n",
    "catIds = [coco.getCatIds(catNms=cls)[0] for cls in VOC_classes];\n",
    "print(catIds)\n",
    "imgIds = []\n",
    "for i in catIds:\n",
    "    imgIds.extend(coco.getImgIds(catIds=i ))\n",
    "print(len(imgIds))\n",
    "unique_imgIds=set(imgIds)\n",
    "print(len(unique_imgIds))\n",
    "# f=open('coco_voc_pretrain_img.txt','w')\n",
    "# f.write('\\n'.join(['{0:0>12}'.format(Ids) for Ids in unique_imgIds]))\n",
    "# f.close()"
   ]
  },
  {
   "cell_type": "code",
   "execution_count": null,
   "metadata": {},
   "outputs": [],
   "source": [
    "select_imgIds=[]\n",
    "for i in unique_imgIds:\n",
    "    area_all=0\n",
    "    annIds = coco.getAnnIds(imgIds=i, catIds=catIds, iscrowd=None)\n",
    "    anns = coco.loadAnns(annIds)\n",
    "    area_list=[ann['area'] for ann in anns if ann['area']>1000]\n",
    "#     area_large= [area_l for area_l in area\n",
    "#     for area_i in area_list:\n",
    "#     for area_i in area_list:\n",
    "#         area_all+= area_i\n",
    "    if len(area_list)==len(anns):\n",
    "#         print(len(anns))\n",
    "        select_imgIds.append(i)    \n",
    "print(len(select_imgIds))\n",
    "# f=open('coco_voc_pretraining_img.txt','w')\n",
    "# f.write('\\n'.join(['{0:0>12}'.format(Ids) for Ids in select_imgIds]))\n",
    "# f.close()\n",
    "f=open('coco_voc_pretraining_img_Id'+dataType+'.txt','w')\n",
    "f.write('\\n'.join([ str(Ids) for Ids in select_imgIds]))\n",
    "f.close()"
   ]
  },
  {
   "cell_type": "code",
   "execution_count": null,
   "metadata": {},
   "outputs": [],
   "source": [
    "pretraining_list = open('coco_voc_pretraining_img_Id'+dataType+'.txt','r')\n",
    "imgIds = pretraining_list.readlines()\n",
    "imgIds = [int(id) for id in imgIds]\n",
    "print(len(imgIds))\n",
    "pretraining_list.close   \n",
    "# bnmask = coco.annToMask(anns[1])\n",
    "# print(bnmask)\n",
    "# plt.imshow(bnmask)\n",
    "# bnmask.max()\n",
    "\n",
    "VOC_classes=['airplane','bicycle','bird','boat','bottle','bus','car','cat','chair','cow',\n",
    "             'dining table','dog','horse','motorcycle','person','potted plant','sheep','couch','train','tv'];\n",
    "common_class=[cls for cls in VOC_classes if cls in nms]\n",
    "print(len(common_class))\n",
    "print(common_class)\n",
    "catIds = [coco.getCatIds(catNms=cls)[0] for cls in VOC_classes];\n",
    "print(catIds)\n",
    "catIdIndex =[catIds.index(catId)+1 for catId in catIds]\n",
    "print(catIdIndex)\n",
    "count = 0\n",
    "from PIL import Image\n",
    "for imgId in imgIds:\n",
    "    count=count+1\n",
    "    print(count)\n",
    "#     print(imgId)\n",
    "#     print(catIds)\n",
    "    img = coco.loadImgs(ids=[int(imgId)])[0]\n",
    "#     print(img)\n",
    "    imsize = (img[\"height\"],img[\"width\"])\n",
    "#     print(imsize)\n",
    "    bnmask=np.zeros(imsize)\n",
    "    annIds = coco.getAnnIds(imgIds=imgId, catIds=catIds, iscrowd=None)\n",
    "#     print(annIds)\n",
    "    anns = coco.loadAnns(annIds)\n",
    "    ann_sel = [ann for ann in anns if ann['category_id'] in catIds]\n",
    "#     print(anns)\n",
    "    for ann in ann_sel:\n",
    "        voc_label = catIds.index(ann['category_id'])+1\n",
    "#         print(voc_label)\n",
    "#         print(VOC_classes[voc_label-1])\n",
    "        bnmask += coco.annToMask(ann)*voc_label\n",
    "#         print(bnmask)\n",
    "#         plt.imshow(bnmask);plt.axis('off')\n",
    "#         print(bnmask.max())\n",
    "    immask = np.asarray(bnmask)\n",
    "#     print(immask.ndim)\n",
    "#     print('%s/%s/%s.jpg'%(dataDir,dataType,img['file_name'].split('.')[0]))\n",
    "    maskimg=Image.fromarray(immask.astype(np.uint8))\n",
    "    saveDir='coco_voc_pretraining_'+dataType+'_png'\n",
    "    if not os.path.exists(saveDir):\n",
    "        os.mkdir(saveDir)\n",
    "    maskimg.save(saveDir+'/%s.png'%(img['file_name'].split('.')[0]))\n",
    "#     if immask.ndim == 3:\n",
    "#         # if 3D, show as RGB\n",
    "#         imsave('coco_voc_pretraining_img/%s.png'%(img['file_name'].split('.')[0]), immask, format=\"png\")\n",
    "#     else:\n",
    "#         # if 2D, show as grayscale\n",
    "#         imsave('coco_voc_pretraining_img/%s.png'%(img['file_name'].split('.')[0]), immask, format=\"png\", cmap=cm.gray)\n",
    "\n",
    "    \n",
    " \n"
   ]
  },
  {
   "cell_type": "code",
   "execution_count": null,
   "metadata": {},
   "outputs": [],
   "source": [
    "annIds = coco.getAnnIds(imgIds=int(imgId), catIds=[5, 2, 16, 9, 44, 6, 3, 17, 62, 21, 67, 18, 19, 4, 1, 64, 20, 63, 7, 72], iscrowd=None)\n",
    "print(annIds)"
   ]
  },
  {
   "cell_type": "code",
   "execution_count": null,
   "metadata": {},
   "outputs": [],
   "source": []
  }
 ],
 "metadata": {
  "kernelspec": {
   "display_name": "Python 2",
   "language": "python",
   "name": "python2"
  },
  "language_info": {
   "codemirror_mode": {
    "name": "ipython",
    "version": 2
   },
   "file_extension": ".py",
   "mimetype": "text/x-python",
   "name": "python",
   "nbconvert_exporter": "python",
   "pygments_lexer": "ipython2",
   "version": "2.7.15"
  }
 },
 "nbformat": 4,
 "nbformat_minor": 1
}
