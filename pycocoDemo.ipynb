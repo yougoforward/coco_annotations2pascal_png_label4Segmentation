{
 "cells": [
  {
   "cell_type": "code",
   "execution_count": null,
   "metadata": {},
   "outputs": [],
   "source": [
    "%matplotlib inline\n",
    "from pycocotools.coco import COCO\n",
    "from pycocotools.coco import *\n",
    "import numpy as np\n",
    "import skimage.io as io\n",
    "import matplotlib.pyplot as plt\n",
    "from matplotlib.pyplot import imsave\n",
    "from matplotlib.pyplot import cm\n",
    "import pylab\n",
    "pylab.rcParams['figure.figsize'] = (8.0, 10.0)"
   ]
  },
  {
   "cell_type": "code",
   "execution_count": null,
   "metadata": {},
   "outputs": [],
   "source": [
    "dataDir='/media/D/DataSets/coco'\n",
    "dataType='val2017'\n",
    "annFile='{}/annotations/instances_{}.json'.format(dataDir,dataType)"
   ]
  },
  {
   "cell_type": "code",
   "execution_count": null,
   "metadata": {},
   "outputs": [],
   "source": [
    "# initialize COCO api for instance annotations\n",
    "coco=COCO(annFile)\n",
    "print(coco)"
   ]
  },
  {
   "cell_type": "code",
   "execution_count": null,
   "metadata": {
    "scrolled": true
   },
   "outputs": [],
   "source": [
    "# display COCO categories and supercategories\n",
    "cats = coco.loadCats(coco.getCatIds())\n",
    "allcatIds=coco.getCatIds()\n",
    "print(allcatIds)\n",
    "print(len(cats))\n",
    "# print(cats)\n",
    "nms=[cat['name'] for cat in cats]\n",
    "print('COCO categories: \\n{}\\n'.format(' '.join(nms)))\n",
    "\n",
    "nms = set([cat['supercategory'] for cat in cats])\n",
    "print('COCO supercategories: \\n{}'.format(' '.join(nms)))"
   ]
  },
  {
   "cell_type": "code",
   "execution_count": null,
   "metadata": {},
   "outputs": [],
   "source": [
    "# get all images containing given categories, select one at random\n",
    "\n",
    "print(catIds)\n",
    "imgIds = coco.getImgIds(catIds=catIds );\n",
    "print(len(imgIds))\n",
    "f=open('coco_truck_img.txt','w')\n",
    "f.write('\\n'.join(['{0:0>12}'.format(Ids)+'.jpg' for Ids in imgIds]))\n",
    "f.close()\n",
    "\n"
   ]
  },
  {
   "cell_type": "code",
   "execution_count": null,
   "metadata": {},
   "outputs": [],
   "source": [
    "annall=0\n",
    "for i in imgIds:\n",
    "    annIds = coco.getAnnIds(imgIds=i, catIds=catIds, iscrowd=None)\n",
    "#     print(annIds)\n",
    "    annall=annall+len(annIds)\n",
    "#     anns = coco.loadAnns(annIds)\n",
    "print(annall)"
   ]
  },
  {
   "cell_type": "code",
   "execution_count": null,
   "metadata": {},
   "outputs": [],
   "source": [
    "# get all images containing given categories, select one at random\n",
    "catIds = coco.getCatIds(catNms=['person','dog','skateboard']);\n",
    "print(catIds)\n",
    "imgIds = coco.getImgIds(catIds=catIds );\n",
    "print(len(imgIds))\n",
    "# print(imgIds)\n",
    "# imgIds = coco.getImgIds(imgIds = [73])\n",
    "img = coco.loadImgs(imgIds[np.random.randint(0,len(imgIds))])[0]\n",
    "print(img)"
   ]
  },
  {
   "cell_type": "code",
   "execution_count": null,
   "metadata": {},
   "outputs": [],
   "source": [
    "# get all images containing given categories, select one at random\n",
    "#catIds = coco.getCatIds(catNms=['person','car','bus','truck']);\n",
    "catIds = coco.getCatIds(catNms=['car','bus','truck']);\n",
    "print(catIds)\n",
    "imgIds =[]\n",
    "annIds = []\n",
    "for i in catIds:\n",
    "    imgIds.extend(coco.getImgIds(catIds=i ))\n",
    "print(len(imgIds))\n",
    "unique_imgIds=set(imgIds)\n",
    "print(len(unique_imgIds))\n",
    "imgs = coco.loadImgs(ids=unique_imgIds)\n",
    "#print(imgs)\n",
    "for ids in unique_imgIds:\n",
    "    annIds.extend(coco.getAnnIds(imgIds=ids, catIds=catIds, iscrowd=None))\n",
    "print(len(annIds))\n",
    "unique_annIds=set(annIds)\n",
    "print(len(unique_annIds))\n",
    "anns = coco.loadAnns(unique_annIds)\n"
   ]
  },
  {
   "cell_type": "code",
   "execution_count": null,
   "metadata": {},
   "outputs": [],
   "source": [
    "ann=coco.getAnnIds(imgIds=532481, catIds=[], iscrowd=None)\n",
    "print(ann)"
   ]
  },
  {
   "cell_type": "code",
   "execution_count": null,
   "metadata": {},
   "outputs": [],
   "source": [
    "print(anns[0])\n",
    "anns[0]['category_id']"
   ]
  },
  {
   "cell_type": "code",
   "execution_count": null,
   "metadata": {},
   "outputs": [],
   "source": [
    "f=open('coco_vehicle_val_img_Id.txt','w')\n",
    "f.write('\\n'.join([ str(Ids) for Ids in unique_imgIds]))\n",
    "f.close()"
   ]
  },
  {
   "cell_type": "code",
   "execution_count": null,
   "metadata": {},
   "outputs": [],
   "source": [
    "import xml.etree.ElementTree as ET\n",
    "import os\n",
    "import json\n",
    "\n",
    "\n",
    "images=imgs\n",
    "types=\"instances\"\n",
    "for ind in range(len(anns)):\n",
    "#     if anns[ind]['category_id'] in [3,6,8]:\n",
    "#         anns[ind]['category_id']=2\n",
    "    anns[ind]['category_id']=1\n",
    "    print(anns[ind])\n",
    "    \n",
    "annotations=anns\n",
    "#     categories= [{\"supercategory\": \"person\", \"id\": 1, \"name\": \"person\"},\n",
    "#                    {\"supercategory\": \"vehicle\", \"id\": 2, \"name\": \"bicycle\"},\n",
    "#                    {\"supercategory\": \"vehicle\", \"id\": 3, \"name\": \"car\"},\n",
    "#                    {\"supercategory\": \"vehicle\", \"id\": 4, \"name\": \"motorcycle\"},\n",
    "#                    {\"supercategory\": \"vehicle\", \"id\": 5, \"name\": \"airplane\"},\n",
    "#                    {\"supercategory\": \"vehicle\", \"id\": 6, \"name\": \"bus\"},\n",
    "#                    {\"supercategory\": \"vehicle\", \"id\": 7, \"name\": \"train\"},\n",
    "#                    {\"supercategory\": \"vehicle\", \"id\": 8, \"name\": \"truck\"},\n",
    "#                    {\"supercategory\": \"vehicle\", \"id\": 9, \"name\": \"boat\"},\n",
    "#                    {\"supercategory\": \"outdoor\", \"id\": 10, \"name\": \"traffic light\"},\n",
    "#                    {\"supercategory\": \"outdoor\", \"id\": 11, \"name\": \"fire hydrant\"},\n",
    "#                    {\"supercategory\": \"outdoor\", \"id\": 13, \"name\": \"stop sign\"},\n",
    "#                    {\"supercategory\": \"outdoor\", \"id\": 14, \"name\": \"parking meter\"},\n",
    "#                    {\"supercategory\": \"outdoor\", \"id\": 15, \"name\": \"bench\"},\n",
    "#                    {\"supercategory\": \"animal\", \"id\": 16, \"name\": \"bird\"},\n",
    "#                    {\"supercategory\": \"animal\", \"id\": 17, \"name\": \"cat\"},\n",
    "#                    {\"supercategory\": \"animal\", \"id\": 18, \"name\": \"dog\"},\n",
    "#                    {\"supercategory\": \"animal\", \"id\": 19, \"name\": \"horse\"},\n",
    "#                    {\"supercategory\": \"animal\", \"id\": 20, \"name\": \"sheep\"},\n",
    "#                    {\"supercategory\": \"animal\", \"id\": 21, \"name\": \"cow\"},\n",
    "#                    {\"supercategory\": \"animal\", \"id\": 22, \"name\": \"elephant\"},\n",
    "#                    {\"supercategory\": \"animal\", \"id\": 23, \"name\": \"bear\"},\n",
    "#                    {\"supercategory\": \"animal\", \"id\": 24, \"name\": \"zebra\"},\n",
    "#                    {\"supercategory\": \"animal\", \"id\": 25, \"name\": \"giraffe\"},\n",
    "#                    {\"supercategory\": \"accessory\", \"id\": 27, \"name\": \"backpack\"},\n",
    "#                    {\"supercategory\": \"accessory\", \"id\": 28, \"name\": \"umbrella\"},\n",
    "#                    {\"supercategory\": \"accessory\", \"id\": 31, \"name\": \"handbag\"},\n",
    "#                    {\"supercategory\": \"accessory\", \"id\": 32, \"name\": \"tie\"},\n",
    "#                    {\"supercategory\": \"accessory\", \"id\": 33, \"name\": \"suitcase\"},\n",
    "#                    {\"supercategory\": \"sports\", \"id\": 34, \"name\": \"frisbee\"},\n",
    "#                    {\"supercategory\": \"sports\", \"id\": 35, \"name\": \"skis\"},\n",
    "#                    {\"supercategory\": \"sports\", \"id\": 36, \"name\": \"snowboard\"},\n",
    "#                    {\"supercategory\": \"sports\", \"id\": 37, \"name\": \"sports ball\"},\n",
    "#                    {\"supercategory\": \"sports\", \"id\": 38, \"name\": \"kite\"},\n",
    "#                    {\"supercategory\": \"sports\", \"id\": 39, \"name\": \"baseball bat\"},\n",
    "#                    {\"supercategory\": \"sports\", \"id\": 40, \"name\": \"baseball glove\"},\n",
    "#                    {\"supercategory\": \"sports\", \"id\": 41, \"name\": \"skateboard\"},\n",
    "#                    {\"supercategory\": \"sports\", \"id\": 42, \"name\": \"surfboard\"},\n",
    "#                    {\"supercategory\": \"sports\", \"id\": 43, \"name\": \"tennis racket\"},\n",
    "#                    {\"supercategory\": \"kitchen\", \"id\": 44, \"name\": \"bottle\"},\n",
    "#                    {\"supercategory\": \"kitchen\", \"id\": 46, \"name\": \"wine glass\"},\n",
    "#                    {\"supercategory\": \"kitchen\", \"id\": 47, \"name\": \"cup\"},\n",
    "#                    {\"supercategory\": \"kitchen\", \"id\": 48, \"name\": \"fork\"},\n",
    "#                    {\"supercategory\": \"kitchen\", \"id\": 49, \"name\": \"knife\"},\n",
    "#                    {\"supercategory\": \"kitchen\", \"id\": 50, \"name\": \"spoon\"},\n",
    "#                    {\"supercategory\": \"kitchen\", \"id\": 51, \"name\": \"bowl\"},\n",
    "#                    {\"supercategory\": \"food\", \"id\": 52, \"name\": \"banana\"},\n",
    "#                    {\"supercategory\": \"food\", \"id\": 53, \"name\": \"apple\"},\n",
    "#                    {\"supercategory\": \"food\", \"id\": 54, \"name\": \"sandwich\"},\n",
    "#                    {\"supercategory\": \"food\", \"id\": 55, \"name\": \"orange\"},\n",
    "#                    {\"supercategory\": \"food\", \"id\": 56, \"name\": \"broccoli\"},\n",
    "#                    {\"supercategory\": \"food\", \"id\": 57, \"name\": \"carrot\"},\n",
    "#                    {\"supercategory\": \"food\", \"id\": 58, \"name\": \"hot dog\"},\n",
    "#                    {\"supercategory\": \"food\", \"id\": 59, \"name\": \"pizza\"},\n",
    "#                    {\"supercategory\": \"food\", \"id\": 60, \"name\": \"donut\"},\n",
    "#                    {\"supercategory\": \"food\", \"id\": 61, \"name\": \"cake\"},\n",
    "#                    {\"supercategory\": \"furniture\", \"id\": 62, \"name\": \"chair\"},\n",
    "#                    {\"supercategory\": \"furniture\", \"id\": 63, \"name\": \"couch\"},\n",
    "#                    {\"supercategory\": \"furniture\", \"id\": 64, \"name\": \"potted plant\"},\n",
    "#                    {\"supercategory\": \"furniture\", \"id\": 65, \"name\": \"bed\"},\n",
    "#                    {\"supercategory\": \"furniture\", \"id\": 67, \"name\": \"dining table\"},\n",
    "#                    {\"supercategory\": \"furniture\", \"id\": 70, \"name\": \"toilet\"},\n",
    "#                    {\"supercategory\": \"electronic\", \"id\": 72, \"name\": \"tv\"},\n",
    "#                    {\"supercategory\": \"electronic\", \"id\": 73, \"name\": \"laptop\"},\n",
    "#                    {\"supercategory\": \"electronic\", \"id\": 74, \"name\": \"mouse\"},\n",
    "#                    {\"supercategory\": \"electronic\", \"id\": 75, \"name\": \"remote\"},\n",
    "#                    {\"supercategory\": \"electronic\", \"id\": 76, \"name\": \"keyboard\"},\n",
    "#                    {\"supercategory\": \"electronic\", \"id\": 77, \"name\": \"cell phone\"},\n",
    "#                    {\"supercategory\": \"appliance\", \"id\": 78, \"name\": \"microwave\"},\n",
    "#                    {\"supercategory\": \"appliance\", \"id\": 79, \"name\": \"oven\"},\n",
    "#                    {\"supercategory\": \"appliance\", \"id\": 80, \"name\": \"toaster\"},\n",
    "#                    {\"supercategory\": \"appliance\", \"id\": 81, \"name\": \"sink\"},\n",
    "#                    {\"supercategory\": \"appliance\", \"id\": 82, \"name\": \"refrigerator\"},\n",
    "#                    {\"supercategory\": \"indoor\", \"id\": 84, \"name\": \"book\"},\n",
    "#                    {\"supercategory\": \"indoor\", \"id\": 85, \"name\": \"clock\"},\n",
    "#                    {\"supercategory\": \"indoor\", \"id\": 86, \"name\": \"vase\"},\n",
    "#                    {\"supercategory\": \"indoor\", \"id\": 87, \"name\": \"scissors\"},\n",
    "#                    {\"supercategory\": \"indoor\", \"id\": 88, \"name\": \"teddy bear\"},\n",
    "#                    {\"supercategory\": \"indoor\", \"id\": 89, \"name\": \"hair drier\"},\n",
    "#                    {\"supercategory\": \"indoor\", \"id\": 90, \"name\": \"toothbrush\"}]\n",
    "# categories = [\n",
    "#     {\n",
    "#         \"id\" : 1,\n",
    "#         \"name\" : \"person\",\n",
    "#         \"supercategory\" : \"object\"\n",
    "#     },\n",
    "#     {\n",
    "#         \"id\" : 2,\n",
    "#         \"name\" : \"car\",\n",
    "#         \"supercategory\" : \"object\"\n",
    "#     }\n",
    "# ]\n",
    "categories = [\n",
    "    {\n",
    "        \"id\" : 1,\n",
    "        \"name\" : \"car\",\n",
    "        \"supercategory\" : \"object\"\n",
    "    }\n",
    "]\n",
    "coco2017_vehicle_annotations ={\"images\":images,\"type\":types,\"annotations\":annotations,\"categories\":categories}\n",
    "\n",
    "# classes=['background','car']\n",
    "\n",
    "# classes = [\n",
    "#         '__background__', 'person', 'bicycle', 'car', 'motorcycle', 'airplane',\n",
    "#         'bus', 'train', 'truck', 'boat', 'traffic light', 'fire hydrant',\n",
    "#         'stop sign', 'parking meter', 'bench', 'bird', 'cat', 'dog', 'horse',\n",
    "#         'sheep', 'cow', 'elephant', 'bear', 'zebra', 'giraffe', 'backpack',\n",
    "#         'umbrella', 'handbag', 'tie', 'suitcase', 'frisbee', 'skis',\n",
    "#         'snowboard', 'sports ball', 'kite', 'baseball bat', 'baseball glove',\n",
    "#         'skateboard', 'surfboard', 'tennis racket', 'bottle', 'wine glass',\n",
    "#         'cup', 'fork', 'knife', 'spoon', 'bowl', 'banana', 'apple', 'sandwich',\n",
    "#         'orange', 'broccoli', 'carrot', 'hot dog', 'pizza', 'donut', 'cake',\n",
    "#         'chair', 'couch', 'potted plant', 'bed', 'dining table', 'toilet', 'tv',\n",
    "#         'laptop', 'mouse', 'remote', 'keyboard', 'cell phone', 'microwave',\n",
    "#         'oven', 'toaster', 'sink', 'refrigerator', 'book', 'clock', 'vase',\n",
    "#         'scissors', 'teddy bear', 'hair drier', 'toothbrush'\n",
    "#     ]\n",
    "\n",
    "with open('./coco2017_vehicle_annotations'+'_val'+'.json','w') as json_file:\n",
    "    json_file.write(json.dumps(coco2017_vehicle_annotations, ensure_ascii=False))\n",
    "    json_file.close()\n"
   ]
  },
  {
   "cell_type": "code",
   "execution_count": null,
   "metadata": {},
   "outputs": [],
   "source": [
    "#get all catIds\n",
    "cats = coco.loadCats(coco.getCatIds())\n",
    "nms=[cat['name'] for cat in cats]\n",
    "print(len(nms))\n",
    "catIds = coco.getCatIds(catNms=nms);\n",
    "print(catIds)\n",
    "for i in catIds:\n",
    "    imgIds.extend(coco.getImgIds(catIds=i ))\n",
    "print(len(imgIds))\n",
    "unique_imgIds=set(imgIds)\n",
    "print(len(unique_imgIds))\n",
    "\n",
    "imgIds=coco.getImgIds()\n",
    "print(len(imgIds))\n",
    "# f=open('coco_train2017_img.txt','w')\n",
    "# f.write('\\n'.join(['{0:0>12}'.format(Ids) for Ids in imgIds]))\n",
    "# f.close()"
   ]
  },
  {
   "cell_type": "code",
   "execution_count": null,
   "metadata": {},
   "outputs": [],
   "source": [
    "VOC_classes=['aeroplane','bicycle','bird','boat','bottle','bus','car','cat','chair','cow',\n",
    "             'diningtable','dog','horse','motorbike','person','pottedplant','sheep','sofa','train','tvmonitor'];\n",
    "common_class=[cls for cls in VOC_classes if cls not in nms]\n",
    "print(len(common_class))\n",
    "print(common_class)"
   ]
  },
  {
   "cell_type": "code",
   "execution_count": null,
   "metadata": {
    "scrolled": true
   },
   "outputs": [],
   "source": [
    "#PASCAL VOC classes\n",
    "# VOC_classes=['aeroplane','bicycle','bird','boat','bottle','bus','car','cat','chair','cow',\n",
    "#              'diningtable','dog','horse','motorbike','person','pottedplant','sheep','sofa','train','tvmonitor'];\n",
    "VOC_classes=['airplane','bicycle','bird','boat','bottle','bus','car','cat','chair','cow',\n",
    "             'dining table','dog','horse','motorcycle','person','potted plant','sheep','couch','train','tv'];\n",
    "common_class=[cls for cls in VOC_classes if cls in nms]\n",
    "print(len(common_class))\n",
    "print(common_class)\n",
    "# catIds = coco.getCatIds(catNms=common_class);\n",
    "catIds = [coco.getCatIds(catNms=cls)[0] for cls in VOC_classes];\n",
    "print(catIds)\n",
    "imgIds = []\n",
    "for i in catIds:\n",
    "    imgIds.extend(coco.getImgIds(catIds=i ))\n",
    "print(len(imgIds))\n",
    "unique_imgIds=set(imgIds)\n",
    "print(len(unique_imgIds))\n",
    "# f=open('coco_voc_pretrain_img.txt','w')\n",
    "# f.write('\\n'.join(['{0:0>12}'.format(Ids) for Ids in unique_imgIds]))\n",
    "# f.close()"
   ]
  },
  {
   "cell_type": "code",
   "execution_count": null,
   "metadata": {},
   "outputs": [],
   "source": [
    "catId = coco.getCatIds(catNms='skateboard');\n",
    "print(catId)"
   ]
  },
  {
   "cell_type": "code",
   "execution_count": null,
   "metadata": {},
   "outputs": [],
   "source": [
    "select_imgIds=[]\n",
    "for i in unique_imgIds:\n",
    "    area_all=0\n",
    "    annIds = coco.getAnnIds(imgIds=i, catIds=catIds, iscrowd=None)\n",
    "    anns = coco.loadAnns(annIds)\n",
    "    area_list=[ann['area'] for ann in anns if ann['area']>1000]\n",
    "#     area_large= [area_l for area_l in area\n",
    "#     for area_i in area_list:\n",
    "#     for area_i in area_list:\n",
    "#         area_all+= area_i\n",
    "    if len(area_list)==len(anns):\n",
    "#         print(len(anns))\n",
    "        select_imgIds.append(i)    \n",
    "print(len(select_imgIds))\n",
    "# f=open('coco_voc_pretraining_img.txt','w')\n",
    "# f.write('\\n'.join(['{0:0>12}'.format(Ids) for Ids in select_imgIds]))\n",
    "# f.close()\n",
    "f=open('coco_voc_pretraining_img_Id.txt','w')\n",
    "f.write('\\n'.join([ str(Ids) for Ids in select_imgIds]))\n",
    "f.close()"
   ]
  },
  {
   "cell_type": "code",
   "execution_count": null,
   "metadata": {},
   "outputs": [],
   "source": [
    "img = coco.loadImgs(38681)\n",
    "print(img)"
   ]
  },
  {
   "cell_type": "code",
   "execution_count": null,
   "metadata": {},
   "outputs": [],
   "source": [
    "pretraining_list = open('coco_voc_pretraining_img_Id.txt','r')\n",
    "imgIds = pretraining_list.readlines()\n",
    "imgIds = [int(id) for id in imgIds]\n",
    "print(len(imgIds))\n",
    "pretraining_list.close   \n",
    "# bnmask = coco.annToMask(anns[1])\n",
    "# print(bnmask)\n",
    "# plt.imshow(bnmask)\n",
    "# bnmask.max()\n",
    "\n",
    "VOC_classes=['airplane','bicycle','bird','boat','bottle','bus','car','cat','chair','cow',\n",
    "             'dining table','dog','horse','motorcycle','person','potted plant','sheep','couch','train','tv'];\n",
    "common_class=[cls for cls in VOC_classes if cls in nms]\n",
    "print(len(common_class))\n",
    "print(common_class)\n",
    "catIds = [coco.getCatIds(catNms=cls)[0] for cls in VOC_classes];\n",
    "print(catIds)\n",
    "catIdIndex =[catIds.index(catId)+1 for catId in catIds]\n",
    "print(catIdIndex)\n",
    "count = 0\n",
    "from PIL import Image\n",
    "for imgId in imgIds:\n",
    "    count=count+1\n",
    "    print(count)\n",
    "#     print(imgId)\n",
    "#     print(catIds)\n",
    "    img = coco.loadImgs(ids=[int(imgId)])[0]\n",
    "#     print(img)\n",
    "    imsize = (img[\"height\"],img[\"width\"])\n",
    "#     print(imsize)\n",
    "    bnmask=np.zeros(imsize)\n",
    "    annIds = coco.getAnnIds(imgIds=imgId, catIds=catIds, iscrowd=None)\n",
    "#     print(annIds)\n",
    "    anns = coco.loadAnns(annIds)\n",
    "    ann_sel = [ann for ann in anns if ann['category_id'] in catIds]\n",
    "#     print(anns)\n",
    "    for ann in ann_sel:\n",
    "        voc_label = catIds.index(ann['category_id'])+1\n",
    "#         print(voc_label)\n",
    "#         print(VOC_classes[voc_label-1])\n",
    "        bnmask += coco.annToMask(ann)*voc_label\n",
    "#         print(bnmask)\n",
    "#         plt.imshow(bnmask);plt.axis('off')\n",
    "#         print(bnmask.max())\n",
    "    immask = np.asarray(bnmask)\n",
    "#     print(immask.ndim)\n",
    "#     print('%s/%s/%s.jpg'%(dataDir,dataType,img['file_name'].split('.')[0]))\n",
    "    maskimg=Image.fromarray(immask.astype(np.uint8))\n",
    "    maskimg.save('coco_voc_pretraining_png/%s.png'%(img['file_name'].split('.')[0]))\n",
    "#     if immask.ndim == 3:\n",
    "#         # if 3D, show as RGB\n",
    "#         imsave('coco_voc_pretraining_img/%s.png'%(img['file_name'].split('.')[0]), immask, format=\"png\")\n",
    "#     else:\n",
    "#         # if 2D, show as grayscale\n",
    "#         imsave('coco_voc_pretraining_img/%s.png'%(img['file_name'].split('.')[0]), immask, format=\"png\", cmap=cm.gray)\n",
    "\n",
    "    \n",
    " \n"
   ]
  },
  {
   "cell_type": "code",
   "execution_count": null,
   "metadata": {},
   "outputs": [],
   "source": []
  },
  {
   "cell_type": "code",
   "execution_count": null,
   "metadata": {},
   "outputs": [],
   "source": [
    "annIds = coco.getAnnIds(imgIds=int(imgId), catIds=[5, 2, 16, 9, 44, 6, 3, 17, 62, 21, 67, 18, 19, 4, 1, 64, 20, 63, 7, 72], iscrowd=None)\n",
    "print(annIds)"
   ]
  },
  {
   "cell_type": "code",
   "execution_count": null,
   "metadata": {},
   "outputs": [],
   "source": [
    "img = (43912)\n",
    "print(img)"
   ]
  },
  {
   "cell_type": "code",
   "execution_count": null,
   "metadata": {},
   "outputs": [],
   "source": [
    "# load and display image\n",
    "I = io.imread('%s/%s/%s'%(dataDir,dataType,'000000532481.jpg'))\n",
    "# use url to load image\n",
    "# I = io.imread(img['coco_url'])\n",
    "plt.axis('off')\n",
    "plt.imshow(I)\n",
    "plt.show()\n",
    "imsave('43912.png', I, format=\"png\")\n"
   ]
  },
  {
   "cell_type": "code",
   "execution_count": null,
   "metadata": {
    "scrolled": false
   },
   "outputs": [],
   "source": [
    "catIds = coco.getCatIds(catNms=['car']);\n",
    "# load and display instance annotations\n",
    "plt.imshow(I); plt.axis('off')\n",
    "annIds = coco.getAnnIds(imgIds=532481, catIds=catIds, iscrowd=None)\n",
    "anns = coco.loadAnns(annIds)\n",
    "# print(anns)\n",
    "coco.showAnns(anns)\n",
    "imsave('%d_truck.png'%img[0]['id'], I, format=\"png\")"
   ]
  },
  {
   "cell_type": "code",
   "execution_count": null,
   "metadata": {},
   "outputs": [],
   "source": [
    "catIds = coco.getCatIds(catNms=['car']);\n",
    "# load and display instance annotations\n",
    "plt.imshow(I); plt.axis('off')\n",
    "annIds = coco.getAnnIds(imgIds=img[0]['id'], catIds=catIds, iscrowd=None)\n",
    "anns = coco.loadAnns(annIds)\n",
    "# print(anns)\n",
    "coco.showAnns(anns)\n",
    "imsave('%d_car.png'%img[0]['id'], I, format=\"png\")"
   ]
  },
  {
   "cell_type": "code",
   "execution_count": null,
   "metadata": {},
   "outputs": [],
   "source": [
    "# print(anns)"
   ]
  },
  {
   "cell_type": "code",
   "execution_count": null,
   "metadata": {},
   "outputs": [],
   "source": [
    "# bnmask = coco.annToMask(anns[1])\n",
    "# print(bnmask)\n",
    "# plt.imshow(bnmask)\n",
    "# bnmask.max()\n",
    "I = io.imread('%s/%s/%s'%(dataDir,dataType,img[0]['file_name']))\n",
    "imsize = (I.shape[0],I.shape[1])\n",
    "print(imsize)\n",
    "\n",
    "VOC_classes=['airplane','bicycle','bird','boat','bottle','bus','car','cat','chair','cow',\n",
    "             'dining table','dog','horse','motorcycle','person','potted plant','sheep','couch','train','tv'];\n",
    "common_class=[cls for cls in VOC_classes if cls in nms]\n",
    "print(len(common_class))\n",
    "print(common_class)\n",
    "catIds = [coco.getCatIds(catNms=cls)[0] for cls in VOC_classes];\n",
    "print(catIds)\n",
    "catIdIndex =[catIds.index(catId)+1 for catId in catIds]\n",
    "print(catIdIndex)\n",
    "bnmask=np.zeros(imsize)\n",
    "ann_sel = [ann for ann in anns if ann['category_id'] in catIds]\n",
    "for ann in ann_sel:\n",
    "    voc_label = catIds.index(ann['category_id'])+1\n",
    "    print(voc_label)\n",
    "    print(VOC_classes[voc_label-1])\n",
    "    bnmask += coco.annToMask(ann)*voc_label\n",
    "    print(bnmask)\n",
    "    plt.imshow(bnmask);plt.axis('off')\n",
    "    print(bnmask.max())\n",
    "    \n",
    "    \n",
    "immask = np.asarray(bnmask)\n",
    "print(immask.ndim)\n",
    "print('%s/%s/%s.png'%(dataDir,dataType,img[0]['file_name'].split('.')[0]))\n",
    "if immask.ndim == 3:\n",
    "    # if 3D, show as RGB\n",
    "    print(imsave('%s.png'%(img[0]['file_name'].split('.')[0]), immask, format=\"png\"))\n",
    "else:\n",
    "    # if 2D, show as grayscale\n",
    "    print(imsave('%s.png'%(img[0]['file_name'].split('.')[0]), immask, format=\"png\", cmap=cm.gray))"
   ]
  },
  {
   "cell_type": "code",
   "execution_count": null,
   "metadata": {},
   "outputs": [],
   "source": [
    "# initialize COCO api for person keypoints annotations\n",
    "annFile = '{}/annotations/person_keypoints_{}.json'.format(dataDir,dataType)\n",
    "coco_kps=COCO(annFile)"
   ]
  },
  {
   "cell_type": "code",
   "execution_count": null,
   "metadata": {},
   "outputs": [],
   "source": [
    "# load and display keypoints annotations\n",
    "plt.imshow(I); plt.axis('off')\n",
    "ax = plt.gca()\n",
    "annIds = coco_kps.getAnnIds(imgIds=img['id'], catIds=catIds, iscrowd=None)\n",
    "anns = coco_kps.loadAnns(annIds)\n",
    "print(anns)\n",
    "coco_kps.showAnns(anns)"
   ]
  },
  {
   "cell_type": "code",
   "execution_count": null,
   "metadata": {},
   "outputs": [],
   "source": [
    "# initialize COCO api for caption annotations\n",
    "annFile = '{}/annotations/captions_{}.json'.format(dataDir,dataType)\n",
    "coco_caps=COCO(annFile)"
   ]
  },
  {
   "cell_type": "code",
   "execution_count": null,
   "metadata": {},
   "outputs": [],
   "source": [
    "# load and display caption annotations\n",
    "annIds = coco_caps.getAnnIds(imgIds=img['id']);\n",
    "anns = coco_caps.loadAnns(annIds)\n",
    "coco_caps.showAnns(anns)\n",
    "plt.imshow(I); plt.axis('off'); plt.show()"
   ]
  },
  {
   "cell_type": "code",
   "execution_count": null,
   "metadata": {},
   "outputs": [],
   "source": []
  }
 ],
 "metadata": {
  "kernelspec": {
   "display_name": "Python 2",
   "language": "python",
   "name": "python2"
  },
  "language_info": {
   "codemirror_mode": {
    "name": "ipython",
    "version": 2
   },
   "file_extension": ".py",
   "mimetype": "text/x-python",
   "name": "python",
   "nbconvert_exporter": "python",
   "pygments_lexer": "ipython2",
   "version": "2.7.15"
  }
 },
 "nbformat": 4,
 "nbformat_minor": 1
}
